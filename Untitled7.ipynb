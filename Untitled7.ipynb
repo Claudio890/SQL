{
  "nbformat": 4,
  "nbformat_minor": 0,
  "metadata": {
    "colab": {
      "name": "Untitled7.ipynb",
      "provenance": [],
      "collapsed_sections": [],
      "authorship_tag": "ABX9TyOSJ+pV1L9MdkwLkhsp0hsE",
      "include_colab_link": true
    },
    "kernelspec": {
      "name": "python3",
      "display_name": "Python 3"
    },
    "language_info": {
      "name": "python"
    }
  },
  "cells": [
    {
      "cell_type": "markdown",
      "metadata": {
        "id": "view-in-github",
        "colab_type": "text"
      },
      "source": [
        "<a href=\"https://colab.research.google.com/github/Claudio890/SQL/blob/main/Untitled7.ipynb\" target=\"_parent\"><img src=\"https://colab.research.google.com/assets/colab-badge.svg\" alt=\"Open In Colab\"/></a>"
      ]
    },
    {
      "cell_type": "markdown",
      "source": [
        "Lesson 4 - Looping"
      ],
      "metadata": {
        "id": "fV--CKyyXAtX"
      }
    },
    {
      "cell_type": "code",
      "execution_count": null,
      "metadata": {
        "colab": {
          "base_uri": "https://localhost:8080/"
        },
        "id": "CcqATULEW_1i",
        "outputId": "b1036d5d-c254-4cb0-f6af-0399e6b32d7e"
      },
      "outputs": [
        {
          "output_type": "stream",
          "name": "stdout",
          "text": [
            "['Chelsea', 'Manchester United', 'Napoli', 'Valencia', 'PSG']\n"
          ]
        }
      ],
      "source": [
        "#Q1 Create a list that holds 5 data variables\n",
        "soccerteams=['Chelsea','Manchester United','Napoli','Valencia','PSG']\n",
        "print(soccerteams)"
      ]
    },
    {
      "cell_type": "code",
      "source": [
        "#Q2 Print out those variables by using a for loop\n",
        "for teams in soccerteams:\n",
        "    print(teams)"
      ],
      "metadata": {
        "colab": {
          "base_uri": "https://localhost:8080/"
        },
        "id": "hnTKbfE8Yksn",
        "outputId": "fe00fc8c-15e2-4240-e5c6-f146cd5650f8"
      },
      "execution_count": null,
      "outputs": [
        {
          "output_type": "stream",
          "name": "stdout",
          "text": [
            "Chelsea\n",
            "Manchester United\n",
            "Napoli\n",
            "Valencia\n",
            "PSG\n"
          ]
        }
      ]
    },
    {
      "cell_type": "code",
      "source": [
        "#Q3 Modify your for loop to add a message to your for loop\n",
        "for teams in soccerteams:\n",
        "    print(teams + ' ' + \"is a great team\" + \"\\n\")\n",
        "print(\"I hope I will get to watch them playing at the stadium one day\")"
      ],
      "metadata": {
        "colab": {
          "base_uri": "https://localhost:8080/"
        },
        "id": "aevsgXdXY1hy",
        "outputId": "6e9eb5a6-6aed-4f9b-db8e-1c60f85592fe"
      },
      "execution_count": null,
      "outputs": [
        {
          "output_type": "stream",
          "name": "stdout",
          "text": [
            "Chelsea is a great team\n",
            "\n",
            "Manchester United is a great team\n",
            "\n",
            "Napoli is a great team\n",
            "\n",
            "Valencia is a great team\n",
            "\n",
            "PSG is a great team\n",
            "\n",
            "I hope I will get to watch them playing at the stadium one day\n"
          ]
        }
      ]
    },
    {
      "cell_type": "code",
      "source": [
        "#Q4 Use a for loop to print even numbers from 1-20\n",
        "for num in range (0,21, 2):\n",
        "  print(num)"
      ],
      "metadata": {
        "colab": {
          "base_uri": "https://localhost:8080/"
        },
        "id": "QNvMoh4yaCSa",
        "outputId": "1f8436ea-f37a-4d4c-a429-37f53bad311a"
      },
      "execution_count": null,
      "outputs": [
        {
          "output_type": "stream",
          "name": "stdout",
          "text": [
            "0\n",
            "2\n",
            "4\n",
            "6\n",
            "8\n",
            "10\n",
            "12\n",
            "14\n",
            "16\n",
            "18\n",
            "20\n"
          ]
        }
      ]
    },
    {
      "cell_type": "code",
      "source": [
        "#Q5 Sort your list in alphabetic order\n",
        "print(soccerteams)\n",
        "soccerteams.sort()\n",
        "print(soccerteams)"
      ],
      "metadata": {
        "colab": {
          "base_uri": "https://localhost:8080/"
        },
        "id": "ULuqmXxTbIED",
        "outputId": "d72555ad-5788-4316-fc07-b79d735ac8f1"
      },
      "execution_count": null,
      "outputs": [
        {
          "output_type": "stream",
          "name": "stdout",
          "text": [
            "['Chelsea', 'Manchester United', 'Napoli', 'Valencia', 'PSG']\n",
            "['Chelsea', 'Manchester United', 'Napoli', 'PSG', 'Valencia']\n"
          ]
        }
      ]
    },
    {
      "cell_type": "code",
      "source": [
        "#Q6 Print out the first three elements of your list\n",
        "print(soccerteams[0:3])"
      ],
      "metadata": {
        "colab": {
          "base_uri": "https://localhost:8080/"
        },
        "id": "uVGCesDPboC8",
        "outputId": "95ab36f2-baab-495a-f925-7f5aafd259d2"
      },
      "execution_count": null,
      "outputs": [
        {
          "output_type": "stream",
          "name": "stdout",
          "text": [
            "['Chelsea', 'Manchester United', 'Napoli']\n"
          ]
        }
      ]
    },
    {
      "cell_type": "code",
      "source": [
        "#Q7 Create a loop to print the last 2 elements of your list\n",
        "print(soccerteams[-2:])"
      ],
      "metadata": {
        "colab": {
          "base_uri": "https://localhost:8080/"
        },
        "id": "UoeJ-EaIdysc",
        "outputId": "a4205a7e-7009-4cae-a8d3-854b0a6aa3e8"
      },
      "execution_count": null,
      "outputs": [
        {
          "output_type": "stream",
          "name": "stdout",
          "text": [
            "['PSG', 'Valencia']\n"
          ]
        }
      ]
    }
  ]
}
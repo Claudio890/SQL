{
  "nbformat": 4,
  "nbformat_minor": 0,
  "metadata": {
    "colab": {
      "name": "Untitled6.ipynb",
      "provenance": [],
      "collapsed_sections": [],
      "authorship_tag": "ABX9TyPZ88beSMtm69lBczOQHsY5",
      "include_colab_link": true
    },
    "kernelspec": {
      "name": "python3",
      "display_name": "Python 3"
    },
    "language_info": {
      "name": "python"
    }
  },
  "cells": [
    {
      "cell_type": "markdown",
      "metadata": {
        "id": "view-in-github",
        "colab_type": "text"
      },
      "source": [
        "<a href=\"https://colab.research.google.com/github/Claudio890/SQL/blob/main/Untitled6.ipynb\" target=\"_parent\"><img src=\"https://colab.research.google.com/assets/colab-badge.svg\" alt=\"Open In Colab\"/></a>"
      ]
    },
    {
      "cell_type": "markdown",
      "source": [
        "Lesson 3: Working with Lists"
      ],
      "metadata": {
        "id": "wCy82gj5cdL8"
      }
    },
    {
      "cell_type": "code",
      "source": [
        "#Q1 Create a list of 5 of your favorite tv shows\n",
        "tvshows=['stranger things','billions','yellow jackets','castle rock','blacklist']\n"
      ],
      "metadata": {
        "id": "3HG_xYudcm_u"
      },
      "execution_count": null,
      "outputs": []
    },
    {
      "cell_type": "code",
      "source": [
        "#Q2 Print the list in its original order\n",
        "print(tvshows)"
      ],
      "metadata": {
        "colab": {
          "base_uri": "https://localhost:8080/"
        },
        "id": "j5Tbf5HOdvWl",
        "outputId": "74905143-f9bb-49aa-ec07-ee30f93e2003"
      },
      "execution_count": null,
      "outputs": [
        {
          "output_type": "stream",
          "name": "stdout",
          "text": [
            "['stranger things', 'billions', 'yellow jackets', 'castle rock', 'blacklist']\n"
          ]
        }
      ]
    },
    {
      "cell_type": "code",
      "source": [
        "#Q3 Use the sorted() function to print the list in alphabetic order. How is sorted different() from sort()?\n",
        "print(sorted(tvshows))\n",
        "#The difference between sort and sorted is that the sorted function sorts the element temporarely, while the sort one permanently."
      ],
      "metadata": {
        "colab": {
          "base_uri": "https://localhost:8080/"
        },
        "id": "UokQUPwod8pP",
        "outputId": "df1085be-e408-40ac-a7a0-f5f203b99b64"
      },
      "execution_count": null,
      "outputs": [
        {
          "output_type": "stream",
          "name": "stdout",
          "text": [
            "['billions', 'blacklist', 'castle rock', 'stranger things', 'yellow jackets']\n"
          ]
        }
      ]
    },
    {
      "cell_type": "code",
      "source": [
        "#Q4 Print out your original list\n",
        "print(tvshows)"
      ],
      "metadata": {
        "colab": {
          "base_uri": "https://localhost:8080/"
        },
        "id": "REi1Qdhze0Jy",
        "outputId": "8cde3416-4cbb-4788-853c-62f2d35e6897"
      },
      "execution_count": null,
      "outputs": [
        {
          "output_type": "stream",
          "name": "stdout",
          "text": [
            "['stranger things', 'billions', 'yellow jackets', 'castle rock', 'blacklist']\n"
          ]
        }
      ]
    },
    {
      "cell_type": "code",
      "source": [
        "#Q5 Use sorted () to print your list in reverse alphabetical order.\n",
        "tvshows=['stranger things','billions','yellow jackets','castle rock','blacklist']\n",
        "print(tvshows)\n",
        "shows=sorted(tvshows)\n",
        "print(shows)"
      ],
      "metadata": {
        "colab": {
          "base_uri": "https://localhost:8080/"
        },
        "id": "jMxa0O_RfBqw",
        "outputId": "396e4847-f98d-46c9-aba6-c9d3aea98fd2"
      },
      "execution_count": null,
      "outputs": [
        {
          "output_type": "stream",
          "name": "stdout",
          "text": [
            "['stranger things', 'billions', 'yellow jackets', 'castle rock', 'blacklist']\n",
            "['billions', 'blacklist', 'castle rock', 'stranger things', 'yellow jackets']\n"
          ]
        }
      ]
    },
    {
      "cell_type": "code",
      "source": [
        "#Q6 Create a message indicating how many favorite TV shows you have - use the len() function.\n",
        "print(tvshows)\n",
        "len(tvshows)"
      ],
      "metadata": {
        "colab": {
          "base_uri": "https://localhost:8080/"
        },
        "id": "T30N3c4BhL-H",
        "outputId": "a32d28b3-a3dd-406c-ce45-076682e34b5d"
      },
      "execution_count": null,
      "outputs": [
        {
          "output_type": "stream",
          "name": "stdout",
          "text": [
            "['yellow jackets', 'stranger things', 'castle rock', 'blacklist', 'billions']\n"
          ]
        },
        {
          "output_type": "execute_result",
          "data": {
            "text/plain": [
              "5"
            ]
          },
          "metadata": {},
          "execution_count": 34
        }
      ]
    }
  ]
}
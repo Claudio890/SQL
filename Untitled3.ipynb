{
  "nbformat": 4,
  "nbformat_minor": 0,
  "metadata": {
    "colab": {
      "name": "Untitled3.ipynb",
      "provenance": [],
      "collapsed_sections": [],
      "authorship_tag": "ABX9TyNYD4wKq7bmmaYZqJAzd3FC",
      "include_colab_link": true
    },
    "kernelspec": {
      "name": "python3",
      "display_name": "Python 3"
    },
    "language_info": {
      "name": "python"
    }
  },
  "cells": [
    {
      "cell_type": "markdown",
      "metadata": {
        "id": "view-in-github",
        "colab_type": "text"
      },
      "source": [
        "<a href=\"https://colab.research.google.com/github/Claudio890/SQL/blob/main/Untitled3.ipynb\" target=\"_parent\"><img src=\"https://colab.research.google.com/assets/colab-badge.svg\" alt=\"Open In Colab\"/></a>"
      ]
    },
    {
      "cell_type": "code",
      "execution_count": null,
      "metadata": {
        "colab": {
          "base_uri": "https://localhost:8080/"
        },
        "id": "2Ese_kOpmoQd",
        "outputId": "daf722e4-24e4-4a80-f80d-282b4cb22920"
      },
      "outputs": [
        {
          "output_type": "stream",
          "name": "stdout",
          "text": [
            "Python is a general-purpose programming language, and it is useful because it can be used to process anything that culd be saved on a computer\n"
          ]
        }
      ],
      "source": [
        "#Q1 What is Python and why is it useful?\n",
        "variable= \"Python is a general-purpose programming language, and it is useful because it can be used to process anything that culd be saved on a computer\"\n",
        "print(variable)"
      ]
    },
    {
      "cell_type": "code",
      "source": [
        "#Q2 Are the following variable names allowed in python?\n",
        "answer=\"Yes except letter d\"\n",
        "print(answer)"
      ],
      "metadata": {
        "colab": {
          "base_uri": "https://localhost:8080/"
        },
        "id": "QCbPM1AUm3PM",
        "outputId": "00eadbaf-b20f-4d03-bc92-a0081845de5d"
      },
      "execution_count": null,
      "outputs": [
        {
          "output_type": "stream",
          "name": "stdout",
          "text": [
            "Yes except letter d\n"
          ]
        }
      ]
    },
    {
      "cell_type": "code",
      "source": [
        "#Q3 Create a variable that holds the string \"hello there!\"\n",
        "variable=\"hello there!\"\n",
        "print(variable)"
      ],
      "metadata": {
        "colab": {
          "base_uri": "https://localhost:8080/"
        },
        "id": "5-4tSZmgo-SF",
        "outputId": "67b857f5-e9b0-4670-e51e-ae1d34b2d6ca"
      },
      "execution_count": null,
      "outputs": [
        {
          "output_type": "stream",
          "name": "stdout",
          "text": [
            "hello there!\n"
          ]
        }
      ]
    },
    {
      "cell_type": "code",
      "source": [
        "#Q4 Create a variable for first name, last name, and an email extension. Concatenating all three together to form an email address\n",
        "First_name=\"claudio\"\n",
        "Last_name=\"panebianco\"\n",
        "Email=\"@gmail.com\"\n",
        "print(First_name+Last_name+Email)"
      ],
      "metadata": {
        "colab": {
          "base_uri": "https://localhost:8080/"
        },
        "id": "QE_lovglpU4H",
        "outputId": "ffc492a3-0782-4569-9355-7d525ff384df"
      },
      "execution_count": null,
      "outputs": [
        {
          "output_type": "stream",
          "name": "stdout",
          "text": [
            "claudiopanebianco@gmail.com\n"
          ]
        }
      ]
    },
    {
      "cell_type": "code",
      "source": [
        "#Q5 Store someone you know name in a variable called name. Print their name in lower and uppercase using a method\n",
        "name=\"amber\"\n",
        "print(name.upper())\n",
        "print(name.lower())"
      ],
      "metadata": {
        "colab": {
          "base_uri": "https://localhost:8080/"
        },
        "id": "M2YfJM0kp_le",
        "outputId": "51cc9c03-b434-442a-a91d-cf03d6f01190"
      },
      "execution_count": null,
      "outputs": [
        {
          "output_type": "stream",
          "name": "stdout",
          "text": [
            "AMBER\n",
            "amber\n"
          ]
        }
      ]
    },
    {
      "cell_type": "code",
      "source": [
        "#Q6 Using a variable, ask your friend if they want to hang out on the 15th of the month\n",
        "variable_1=\"Do you want to hang out on the\"\n",
        "variable_2=15\n",
        "variable_3=\"th of the month?\"\n",
        "print(variable_1 + ' '+ str(variable_2) + variable_3)"
      ],
      "metadata": {
        "colab": {
          "base_uri": "https://localhost:8080/"
        },
        "id": "DF7cw0z_qgEn",
        "outputId": "41c3c14a-3c88-4467-f067-a44daaa6bd52"
      },
      "execution_count": null,
      "outputs": [
        {
          "output_type": "stream",
          "name": "stdout",
          "text": [
            "Do you want to hang out on the 15th of the month?\n"
          ]
        }
      ]
    },
    {
      "cell_type": "code",
      "source": [
        ""
      ],
      "metadata": {
        "id": "xeAnaC09rJ2R"
      },
      "execution_count": null,
      "outputs": []
    }
  ]
}
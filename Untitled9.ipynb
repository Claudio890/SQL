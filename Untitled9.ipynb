{
  "nbformat": 4,
  "nbformat_minor": 0,
  "metadata": {
    "colab": {
      "name": "Untitled9.ipynb",
      "provenance": [],
      "collapsed_sections": [],
      "authorship_tag": "ABX9TyMSI+ArV1NTkpUVpiBGT3RZ",
      "include_colab_link": true
    },
    "kernelspec": {
      "name": "python3",
      "display_name": "Python 3"
    },
    "language_info": {
      "name": "python"
    }
  },
  "cells": [
    {
      "cell_type": "markdown",
      "metadata": {
        "id": "view-in-github",
        "colab_type": "text"
      },
      "source": [
        "<a href=\"https://colab.research.google.com/github/Claudio890/SQL/blob/main/Untitled9.ipynb\" target=\"_parent\"><img src=\"https://colab.research.google.com/assets/colab-badge.svg\" alt=\"Open In Colab\"/></a>"
      ]
    },
    {
      "cell_type": "markdown",
      "source": [
        "Lesson 5: If-elif-else Statements"
      ],
      "metadata": {
        "id": "gc2deg0uBaww"
      }
    },
    {
      "cell_type": "code",
      "execution_count": 55,
      "metadata": {
        "id": "3w_-WPQlBZgz",
        "colab": {
          "base_uri": "https://localhost:8080/"
        },
        "outputId": "00284372-54f9-4751-ad02-8bfa33f2f9fa"
      },
      "outputs": [
        {
          "output_type": "stream",
          "name": "stdout",
          "text": [
            "Molfetta, welcome to Usernames. We hope you will enjoy our App!!!\n",
            "\n",
            "Calvanese, welcome to Usernames!!!\n",
            "\n",
            "Mastrandrea, welcome to Usernames!!!\n",
            "\n",
            "Freschi, welcome to Usernames!!!\n",
            "\n",
            "Samarelli, welcome to Usernames!!!\n",
            "\n"
          ]
        }
      ],
      "source": [
        "#Q1 Make a list of 5 or more usernames, including an admin account. Imagine you are writing code that will welcome people to your application on login. Loop through the list and print your greeting.\n",
        "#a. If the admin account logs in, give them a special greeting. They're the admin, after all!!\n",
        "#b. Other users can get the generic greeting\n",
        "Usernames=['Molfetta','Calvanese','Mastrandrea','Freschi','Samarelli']\n",
        "for admin in Usernames:\n",
        "  if admin == \"Molfetta\":\n",
        "    print(admin + \", welcome to Usernames. We hope you will enjoy our App!!!\" + \"\\n\")\n",
        "  else:\n",
        "    print(admin + \", welcome to Usernames!!!\" + \"\\n\")\n"
      ]
    },
    {
      "cell_type": "code",
      "source": [
        "#Q2 Store numbers 1-10 in a list\n",
        "#a. Loop through the list\n",
        "#b. Use an if-elif-else chain inside your loop to print the ordinal ending for each number - for example - 1st, 2nd, 3rd ... etc.\n",
        "numbers=list(range(1,11))\n",
        "print(numbers)\n",
        "for numb in numbers:\n",
        "  if numb == 1:\n",
        "    print(f\"{numb}st\")\n",
        "  elif numb==2:\n",
        "    print(f\"{numb}nd\")\n",
        "  elif numb==3:\n",
        "    print(f\"{numb}rd\")\n",
        "  else:\n",
        "    print(f\"{numb}th\")"
      ],
      "metadata": {
        "colab": {
          "base_uri": "https://localhost:8080/"
        },
        "id": "C145UH8bR-Pi",
        "outputId": "1b07b183-65d6-4309-acc8-a33862ad7eab"
      },
      "execution_count": 63,
      "outputs": [
        {
          "output_type": "stream",
          "name": "stdout",
          "text": [
            "[1, 2, 3, 4, 5, 6, 7, 8, 9, 10]\n",
            "1st\n",
            "2nd\n",
            "3rd\n",
            "4th\n",
            "5th\n",
            "6th\n",
            "7th\n",
            "8th\n",
            "9th\n",
            "10th\n"
          ]
        }
      ]
    }
  ]
}